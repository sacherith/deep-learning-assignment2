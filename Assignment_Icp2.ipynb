{
  "nbformat": 4,
  "nbformat_minor": 0,
  "metadata": {
    "colab": {
      "provenance": []
    },
    "kernelspec": {
      "name": "python3",
      "display_name": "Python 3"
    },
    "language_info": {
      "name": "python"
    }
  },
  "cells": [
    {
      "cell_type": "markdown",
      "source": [
        "**1. Display Full Name using string concatenation**"
      ],
      "metadata": {
        "id": "Je5kxc2KyqUq"
      }
    },
    {
      "cell_type": "code",
      "execution_count": null,
      "metadata": {
        "colab": {
          "base_uri": "https://localhost:8080/"
        },
        "id": "Tw8Vgdwfu7X-",
        "outputId": "c6b54a10-723b-4977-e324-91beef89eb73"
      },
      "outputs": [
        {
          "output_type": "stream",
          "name": "stdout",
          "text": [
            "Enter First Name=sai sacherith\n",
            "Enter Last Name=T\n",
            "sai sacherith T\n"
          ]
        }
      ],
      "source": [
        "first_name=input(\"Enter First Name=\")\n",
        "last_name=input(\"Enter Last Name=\")\n",
        "\n",
        "def Full_name(str1,str2):\n",
        "  print(str1+\" \"+str2)\n",
        "Full_name(first_name,last_name)"
      ]
    },
    {
      "cell_type": "markdown",
      "source": [
        "**1. Display alternative letters in the sentence**"
      ],
      "metadata": {
        "id": "tcb38cPQ09Jr"
      }
    },
    {
      "cell_type": "code",
      "source": [
        "def string_alternative(str):\n",
        "  res=str[::2]\n",
        "  print(res)\n",
        "\n",
        "def main():\n",
        "  s=input(\"Enter Word=\")\n",
        "  string_alternative(s)\n",
        "if __name__==\"__main__\":\n",
        "  main()"
      ],
      "metadata": {
        "colab": {
          "base_uri": "https://localhost:8080/"
        },
        "id": "_dymycmyu_UA",
        "outputId": "f34f8c5f-da76-47cd-afa4-b6fef397c9a8"
      },
      "execution_count": null,
      "outputs": [
        {
          "output_type": "stream",
          "name": "stdout",
          "text": [
            "Enter Word=Python and Deep Learning\n",
            "Pto n epLann\n"
          ]
        }
      ]
    },
    {
      "cell_type": "markdown",
      "source": [
        "**2. Save word occurence and count in New text file**"
      ],
      "metadata": {
        "id": "1Y967CIf1Hj7"
      }
    },
    {
      "cell_type": "code",
      "source": [
        "file1=open(r\"/content/input.txt\",\"r\")\n",
        "count={}\n",
        "for i1 in file1:\n",
        "  val=i1.strip().split()\n",
        "  for j1 in val:\n",
        "    if j1 in count:\n",
        "      count[j1]+=1\n",
        "    else:\n",
        "      count[j1]=1\n",
        "file1.close()\n",
        "\n",
        "file2=open(\"output.txt\",\"w\")\n",
        "for i2,j2 in count.items():\n",
        "  file2.write(i2+\":\"+str(j2)+\"\\n\")\n",
        "  print(i2,j2)\n",
        "file2.close()"
      ],
      "metadata": {
        "colab": {
          "base_uri": "https://localhost:8080/"
        },
        "id": "N0B_VMKDIpXA",
        "outputId": "1baa9620-16f7-4ee7-9616-bfedfa3b91b8"
      },
      "execution_count": 44,
      "outputs": [
        {
          "output_type": "stream",
          "name": "stdout",
          "text": [
            "Python 1\n",
            "Course 2\n",
            "Deep 1\n",
            "Learning 1\n"
          ]
        }
      ]
    },
    {
      "cell_type": "markdown",
      "source": [
        "**3. Convert Height from to centimeters in a separate list using Nested Interactive loop and List comprehensions**"
      ],
      "metadata": {
        "id": "c3t8J8nv10rL"
      }
    },
    {
      "cell_type": "code",
      "source": [
        "list1=[]\n",
        "list2=[]\n",
        "num=int(input(\"Enter number of customers=\"))\n",
        "for n in  range(0,num):\n",
        "  n=int(input())\n",
        "  list1.append(n)\n",
        "print(list1)\n",
        "\n",
        "for i in list1:\n",
        "  i=i/2.54\n",
        "  j=round(i,2)\n",
        "  list2.append(j)\n",
        "print(list2)"
      ],
      "metadata": {
        "colab": {
          "base_uri": "https://localhost:8080/"
        },
        "id": "tXqlqGxKwOi_",
        "outputId": "94528f51-992a-499b-be1b-0a3ae2bc1baf"
      },
      "execution_count": 37,
      "outputs": [
        {
          "output_type": "stream",
          "name": "stdout",
          "text": [
            "Enter number of customers=4\n",
            "125\n",
            "635\n",
            "445\n",
            "552\n",
            "[125, 635, 445, 552]\n",
            "[49.21, 250.0, 175.2, 217.32]\n"
          ]
        }
      ]
    }
  ]
}